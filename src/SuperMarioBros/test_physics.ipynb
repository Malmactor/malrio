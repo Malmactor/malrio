{
 "cells": [
  {
   "cell_type": "code",
   "execution_count": 1,
   "metadata": {},
   "outputs": [],
   "source": [
    "%matplotlib inline\n",
    "from __init__ import *\n",
    "from default_layout import layout\n",
    "\n",
    "import numpy as np\n",
    "import matplotlib\n",
    "from matplotlib import pyplot as plt\n",
    "plt.style.use('ggplot')"
   ]
  },
  {
   "cell_type": "code",
   "execution_count": 2,
   "metadata": {},
   "outputs": [
    {
     "data": {
      "text/plain": [
       "array([ 1.        , -0.29980469,  0.        ])"
      ]
     },
     "execution_count": 2,
     "metadata": {},
     "output_type": "execute_result"
    }
   ],
   "source": [
    "block = CollidableAABB(np.array([0.5, 0.5, 0]), np.array([0.5, 0.5]))\n",
    "mario = CollidableRigid(np.array([0, 0.7, 0]), np.array([0.5, 0.3]))\n",
    "mario.prev_state = np.array([[-1, 0, 0], [1, 0, 0], [0, 0, 0]])\n",
    "mario.displacement_difference()"
   ]
  },
  {
   "cell_type": "code",
   "execution_count": 3,
   "metadata": {},
   "outputs": [
    {
     "data": {
      "text/plain": [
       "{'hit': {'delta': array([ 0.5       , -0.14990234]),\n",
       "  'normal': array([-1.,  0.], dtype=float16),\n",
       "  'position': array([-0.02106112,  0.76394478]),\n",
       "  'time': 0.5},\n",
       " 'position': array([-0.501     ,  0.85039746]),\n",
       " 'time': 0.499}"
      ]
     },
     "execution_count": 3,
     "metadata": {},
     "output_type": "execute_result"
    }
   ],
   "source": [
    "block.collide(mario)"
   ]
  },
  {
   "cell_type": "code",
   "execution_count": 4,
   "metadata": {},
   "outputs": [
    {
     "data": {
      "text/plain": [
       "{'hit': None,\n",
       " 'position': array([ 0.        ,  0.30004883], dtype=float16),\n",
       " 'time': 1}"
      ]
     },
     "execution_count": 4,
     "metadata": {},
     "output_type": "execute_result"
    }
   ],
   "source": [
    "block = CollidableAABB(np.array([0, -0.5, 0]), np.array([0.5, 0.5]))\n",
    "mario = CollidableRigid(np.array([0, 0.3, 0]), np.array([0.5, 0.3]))\n",
    "block.collide(mario)"
   ]
  },
  {
   "cell_type": "code",
   "execution_count": 5,
   "metadata": {},
   "outputs": [
    {
     "name": "stdout",
     "output_type": "stream",
     "text": [
      "{'position': array([ 0.        ,  0.30004883], dtype=float16), 'hit': None, 'time': 1}\n",
      "[[-1.          0.          0.        ]\n",
      " [ 0.30004883  0.          0.        ]\n",
      " [ 0.          0.          0.        ]]\n",
      "[[ 0.          0.          0.        ]\n",
      " [ 0.30004883  0.          0.        ]\n",
      " [ 0.          0.          0.        ]]\n"
     ]
    }
   ],
   "source": [
    "block = CollidableAABB(np.array([0, -0.5, 0]), np.array([0.5, 0.5]))\n",
    "mario = CollidableRigid(np.array([0, 0.3, 0]), np.array([0.5, 0.3]))\n",
    "mario.prev_state[:, 0] = [-1, 0.3, 0]\n",
    "print block.collide(mario)\n",
    "print mario.prev_state\n",
    "print mario.state"
   ]
  },
  {
   "cell_type": "code",
   "execution_count": 6,
   "metadata": {},
   "outputs": [
    {
     "data": {
      "text/plain": [
       "array([[1, 0, 0, 0, 0],\n",
       "       [1, 1, 0, 0, 0],\n",
       "       [0, 0, 0, 0, 0],\n",
       "       [0, 0, 1, 0, 0],\n",
       "       [1, 1, 1, 0, 0]])"
      ]
     },
     "execution_count": 6,
     "metadata": {},
     "output_type": "execute_result"
    }
   ],
   "source": [
    "layout[3:8, 3:8]"
   ]
  },
  {
   "cell_type": "code",
   "execution_count": 7,
   "metadata": {
    "collapsed": true
   },
   "outputs": [],
   "source": [
    "sim = MarioSimulation(layout, {\"init_pos\": (5.7, 3.2, 0), \"dtype\": \"float16\"})\n",
    "sim.mario.state[0:2, 1] = [0.4, 0.6]"
   ]
  },
  {
   "cell_type": "code",
   "execution_count": 8,
   "metadata": {},
   "outputs": [
    {
     "name": "stdout",
     "output_type": "stream",
     "text": [
      "- next unchecked state:\n",
      "[[ 6.09765625  0.39990234  0.        ]\n",
      " [ 3.79882812  0.60009766  0.        ]\n",
      " [ 0.          0.          0.        ]]\n",
      "- collision status:\n",
      "((5, 2), {'position': array([ 5.69921875,  3.19921875], dtype=float16), 'hit': {'position': array([ 5.9765625,  4.03125  ], dtype=float16), 'delta': array([ 0.,  0.], dtype=float16), 'normal': array([-1.,  0.], dtype=float16), 'time': 0}, 'time': 0})\n",
      "(5, 2)\n",
      "{'position': array([ 5.69921875,  3.19921875], dtype=float16), 'hit': {'position': array([ 5.9765625,  4.03125  ], dtype=float16), 'delta': array([ 0.,  0.], dtype=float16), 'normal': array([-1.,  0.], dtype=float16), 'time': 0}, 'time': 0}\n"
     ]
    }
   ],
   "source": [
    "pos, collision = sim.run(None, None, None)\n",
    "print pos\n",
    "print collision"
   ]
  },
  {
   "cell_type": "code",
   "execution_count": 9,
   "metadata": {},
   "outputs": [
    {
     "name": "stdout",
     "output_type": "stream",
     "text": [
      "[[ 6.09765625 -0.39990234  0.        ]\n",
      " [ 3.79882812  0.60009766  0.        ]\n",
      " [ 0.          0.          0.        ]]\n"
     ]
    }
   ],
   "source": [
    "sim.mario.state[0:2, 0] -= collision[\"hit\"][\"delta\"]\n",
    "print sim.mario.state"
   ]
  },
  {
   "cell_type": "code",
   "execution_count": 10,
   "metadata": {},
   "outputs": [
    {
     "data": {
      "text/plain": [
       "<function momentum_handler.hit_sides>"
      ]
     },
     "execution_count": 10,
     "metadata": {},
     "output_type": "execute_result"
    }
   ],
   "source": [
    "hit_edge_reaction(collision)"
   ]
  },
  {
   "cell_type": "code",
   "execution_count": 11,
   "metadata": {},
   "outputs": [
    {
     "data": {
      "text/plain": [
       "array([ 0.5,  1. ])"
      ]
     },
     "execution_count": 11,
     "metadata": {},
     "output_type": "execute_result"
    }
   ],
   "source": [
    "sim.mario.radius"
   ]
  },
  {
   "cell_type": "code",
   "execution_count": 16,
   "metadata": {
    "collapsed": true
   },
   "outputs": [],
   "source": [
    "sim = MarioSimulation(layout, {\"init_pos\": (4, 5.7, 0), \"dtype\": \"float16\"})\n",
    "sim.mario.state[0:2, 1] = [0, -0.4]"
   ]
  },
  {
   "cell_type": "code",
   "execution_count": 17,
   "metadata": {},
   "outputs": [
    {
     "name": "stdout",
     "output_type": "stream",
     "text": [
      "- next unchecked state:\n",
      "[[ 4.          0.          0.        ]\n",
      " [ 5.30078125 -0.39990234  0.        ]\n",
      " [ 0.          0.          0.        ]]\n"
     ]
    },
    {
     "ename": "UnboundLocalError",
     "evalue": "local variable 'closest_collision' referenced before assignment",
     "traceback": [
      "\u001b[0;31m---------------------------------------------------------------------------\u001b[0m",
      "\u001b[0;31mUnboundLocalError\u001b[0m                         Traceback (most recent call last)",
      "\u001b[0;32m<ipython-input-17-dca55c9565ac>\u001b[0m in \u001b[0;36m<module>\u001b[0;34m()\u001b[0m\n\u001b[0;32m----> 1\u001b[0;31m \u001b[0mpos\u001b[0m\u001b[0;34m,\u001b[0m \u001b[0mcollision\u001b[0m \u001b[0;34m=\u001b[0m \u001b[0msim\u001b[0m\u001b[0;34m.\u001b[0m\u001b[0mrun\u001b[0m\u001b[0;34m(\u001b[0m\u001b[0mNone\u001b[0m\u001b[0;34m,\u001b[0m \u001b[0mNone\u001b[0m\u001b[0;34m,\u001b[0m \u001b[0mNone\u001b[0m\u001b[0;34m)\u001b[0m\u001b[0;34m\u001b[0m\u001b[0m\n\u001b[0m\u001b[1;32m      2\u001b[0m \u001b[0;32mprint\u001b[0m \u001b[0mpos\u001b[0m\u001b[0;34m\u001b[0m\u001b[0m\n\u001b[1;32m      3\u001b[0m \u001b[0;32mprint\u001b[0m \u001b[0mcollision\u001b[0m\u001b[0;34m\u001b[0m\u001b[0m\n",
      "\u001b[0;32m/Users/Lithium/Dropbox/Courses/UCI/junior/CS 175/Project/master-repo/malrio/src/SuperMarioBros/simulation.py\u001b[0m in \u001b[0;36mrun\u001b[0;34m(self, input, observer, action, printable)\u001b[0m\n\u001b[1;32m    103\u001b[0m             \u001b[0mself\u001b[0m\u001b[0;34m.\u001b[0m\u001b[0mmario\u001b[0m\u001b[0;34m.\u001b[0m\u001b[0mreaction\u001b[0m\u001b[0;34m(\u001b[0m\u001b[0mhit_edge_reaction\u001b[0m\u001b[0;34m(\u001b[0m\u001b[0mclosest_collision\u001b[0m\u001b[0;34m[\u001b[0m\u001b[0;36m1\u001b[0m\u001b[0;34m]\u001b[0m\u001b[0;34m)\u001b[0m\u001b[0;34m)\u001b[0m\u001b[0;34m\u001b[0m\u001b[0m\n\u001b[1;32m    104\u001b[0m \u001b[0;34m\u001b[0m\u001b[0m\n\u001b[0;32m--> 105\u001b[0;31m         \u001b[0;32mreturn\u001b[0m \u001b[0mclosest_collision\u001b[0m\u001b[0;34m\u001b[0m\u001b[0m\n\u001b[0m\u001b[1;32m    106\u001b[0m \"\"\"\n\u001b[1;32m    107\u001b[0m         \u001b[0;32mif\u001b[0m \u001b[0mprintable\u001b[0m\u001b[0;34m:\u001b[0m \u001b[0;32mprint\u001b[0m \u001b[0;34m'- next state with oldspeed:\\n'\u001b[0m\u001b[0;34m,\u001b[0m \u001b[0mself\u001b[0m\u001b[0;34m.\u001b[0m\u001b[0mmario\u001b[0m\u001b[0;34m.\u001b[0m\u001b[0mstate\u001b[0m\u001b[0;34m\u001b[0m\u001b[0m\n",
      "\u001b[0;31mUnboundLocalError\u001b[0m: local variable 'closest_collision' referenced before assignment"
     ],
     "output_type": "error"
    }
   ],
   "source": [
    "pos, collision = sim.run(None, None, None)\n",
    "print pos\n",
    "print collision"
   ]
  },
  {
   "cell_type": "code",
   "execution_count": null,
   "metadata": {
    "collapsed": true
   },
   "outputs": [],
   "source": [
    ""
   ]
  }
 ],
 "metadata": {
  "kernelspec": {
   "display_name": "System Python 2.7",
   "language": "python",
   "name": "sys-py"
  },
  "language_info": {
   "codemirror_mode": {
    "name": "ipython",
    "version": 2.0
   },
   "file_extension": ".py",
   "mimetype": "text/x-python",
   "name": "python",
   "nbconvert_exporter": "python",
   "pygments_lexer": "ipython2",
   "version": "2.7.10"
  }
 },
 "nbformat": 4,
 "nbformat_minor": 0
}