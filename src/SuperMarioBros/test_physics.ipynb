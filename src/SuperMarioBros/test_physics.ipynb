{
 "cells": [
  {
   "cell_type": "code",
   "execution_count": 1,
   "metadata": {},
   "outputs": [],
   "source": [
    "%matplotlib inline\n",
    "import numpy as np\n",
    "from simulatables import *\n",
    "from layout_loader import *\n",
    "import matplotlib\n",
    "from matplotlib import pyplot"
   ]
  },
  {
   "cell_type": "code",
   "execution_count": 2,
   "metadata": {},
   "outputs": [
    {
     "data": {
      "text/plain": [
       "array([ 1.        , -0.29980469,  0.        ])"
      ]
     },
     "execution_count": 2,
     "metadata": {},
     "output_type": "execute_result"
    }
   ],
   "source": [
    "block = CollidableAABB(np.array([0.5, 0.5, 0]), np.array([0.5, 0.5]))\n",
    "mario = CollidableRigid(np.array([0, 0.7, 0]), np.array([0.5, 0.3]))\n",
    "mario.prev_state = np.array([[-1, 0, 0], [1, 0, 0], [0, 0, 0]])\n",
    "mario.displacement_difference()"
   ]
  },
  {
   "cell_type": "code",
   "execution_count": 3,
   "metadata": {},
   "outputs": [
    {
     "data": {
      "text/plain": [
       "{'hit': {'delta': array([ 0.4995005 , -0.14975259]),\n",
       "  'normal': array([-1.,  0.], dtype=float16),\n",
       "  'position': array([-0.02156062,  0.76409454]),\n",
       "  'time': 0.49950049950049957},\n",
       " 'position': array([-0.5014995 ,  0.85054721]),\n",
       " 'time': 0.49850049950049957}"
      ]
     },
     "execution_count": 3,
     "metadata": {},
     "output_type": "execute_result"
    }
   ],
   "source": [
    "block.collide(mario)"
   ]
  },
  {
   "cell_type": "code",
   "execution_count": 4,
   "metadata": {},
   "outputs": [
    {
     "data": {
      "text/plain": [
       "{'hit': None, 'position': array([ 0. ,  0.3]), 'time': 1}"
      ]
     },
     "execution_count": 4,
     "metadata": {},
     "output_type": "execute_result"
    }
   ],
   "source": [
    "block = CollidableAABB(np.array([0, -0.5, 0]), np.array([0.5, 0.5]))\n",
    "mario = CollidableRigid(np.array([0, 0.3, 0]), np.array([0.5, 0.3]))\n",
    "block.collide(mario)"
   ]
  },
  {
   "cell_type": "code",
   "execution_count": 5,
   "metadata": {},
   "outputs": [
    {
     "name": "stdout",
     "output_type": "stream",
     "text": [
      "{'position': array([ 0.        ,  0.30004883], dtype=float16), 'hit': None, 'time': 1}\n",
      "[[-1.          0.          0.        ]\n",
      " [ 0.30004883  0.          0.        ]\n",
      " [ 0.          0.          0.        ]]\n",
      "[[ 0.          0.          0.        ]\n",
      " [ 0.30004883  0.          0.        ]\n",
      " [ 0.          0.          0.        ]]\n"
     ]
    }
   ],
   "source": [
    "block = CollidableAABB(np.array([0, -0.5, 0]), np.array([0.5, 0.5]))\n",
    "mario = CollidableRigid(np.array([0, 0.3, 0]), np.array([0.5, 0.3]))\n",
    "mario.prev_state[:, 0] = [-1, 0.3, 0]\n",
    "print block.collide(mario)\n",
    "print mario.prev_state\n",
    "print mario.state"
   ]
  },
  {
   "cell_type": "code",
   "execution_count": 6,
   "metadata": {
    "collapsed": true
   },
   "outputs": [],
   "source": [
    "import xml.etree.ElementTree as ET"
   ]
  },
  {
   "cell_type": "code",
   "execution_count": 7,
   "metadata": {},
   "outputs": [],
   "source": [
    "xml = '''<?xml version=\"1.0\" encoding=\"UTF-8\" standalone=\"no\" ?>\n",
    "            <Mission xmlns=\"http://ProjectMalmo.microsoft.com\" xmlns:xsi=\"http://www.w3.org/2001/XMLSchema-instance\">\n",
    "\n",
    "              <About>\n",
    "                <Summary>Hello world!</Summary>\n",
    "              </About>\n",
    "              \n",
    "              <ModSettings>\n",
    "                <MsPerTick>17</MsPerTick>\n",
    "              </ModSettings>\n",
    "\n",
    "            <ServerSection>\n",
    "              <ServerInitialConditions>\n",
    "                <Time>\n",
    "                    <StartTime>12000</StartTime>\n",
    "                    <AllowPassageOfTime>false</AllowPassageOfTime>\n",
    "                </Time>\n",
    "                <Weather>clear</Weather>\n",
    "              </ServerInitialConditions>\n",
    "              <ServerHandlers>\n",
    "                  <FlatWorldGenerator generatorString=\"3;7,45;17;\"/>\n",
    "                  <DrawingDecorator>\n",
    "                  </DrawingDecorator>\n",
    "                  <ServerQuitFromTimeUp timeLimitMs=\"300000\"/>\n",
    "                  <ServerQuitWhenAnyAgentFinishes/>\n",
    "                </ServerHandlers>\n",
    "              </ServerSection>\n",
    "\n",
    "              <AgentSection mode=\"Creative\">\n",
    "                <Name>MalmoTutorialBot</Name>\n",
    "                <AgentStart>\n",
    "                    <Placement x=\"0\" y=\"2\" z=\"0\" yaw=\"-90\"/>\n",
    "                </AgentStart>\n",
    "                <AgentHandlers>\n",
    "                  <ObservationFromFullStats/>\n",
    "                  <ObservationFromGrid>\n",
    "                      <Grid name=\"floor3x3\">\n",
    "                        <min x=\"-1\" y=\"-1\" z=\"-1\"/>\n",
    "                        <max x=\"1\" y=\"1\" z=\"-1\"/>\n",
    "                      </Grid>\n",
    "                  </ObservationFromGrid>\n",
    "                  <ContinuousMovementCommands turnSpeedDegs=\"180\"/>\n",
    "                </AgentHandlers>\n",
    "              </AgentSection>\n",
    "            </Mission>'''\n",
    "root = ET.fromstring(xml)"
   ]
  },
  {
   "cell_type": "code",
   "execution_count": 8,
   "metadata": {},
   "outputs": [
    {
     "name": "stdout",
     "output_type": "stream",
     "text": [
      " {http://ProjectMalmo.microsoft.com}About {}\n",
      "   {http://ProjectMalmo.microsoft.com}Summary {}\n",
      " {http://ProjectMalmo.microsoft.com}ModSettings {}\n",
      "   {http://ProjectMalmo.microsoft.com}MsPerTick {}\n",
      " {http://ProjectMalmo.microsoft.com}ServerSection {}\n",
      "   {http://ProjectMalmo.microsoft.com}ServerInitialConditions {}\n",
      "     {http://ProjectMalmo.microsoft.com}Time {}\n",
      "       {http://ProjectMalmo.microsoft.com}StartTime {}\n",
      "       {http://ProjectMalmo.microsoft.com}AllowPassageOfTime {}\n",
      "     {http://ProjectMalmo.microsoft.com}Weather {}\n",
      "   {http://ProjectMalmo.microsoft.com}ServerHandlers {}\n",
      "     {http://ProjectMalmo.microsoft.com}FlatWorldGenerator {'generatorString': '3;7,45;17;'}\n",
      "     {http://ProjectMalmo.microsoft.com}DrawingDecorator {}\n",
      "     {http://ProjectMalmo.microsoft.com}ServerQuitFromTimeUp {'timeLimitMs': '300000'}\n",
      "     {http://ProjectMalmo.microsoft.com}ServerQuitWhenAnyAgentFinishes {}\n",
      " {http://ProjectMalmo.microsoft.com}AgentSection {'mode': 'Creative'}\n",
      "   {http://ProjectMalmo.microsoft.com}Name {}\n",
      "   {http://ProjectMalmo.microsoft.com}AgentStart {}\n",
      "     {http://ProjectMalmo.microsoft.com}Placement {'y': '2', 'x': '0', 'yaw': '-90', 'z': '0'}\n",
      "   {http://ProjectMalmo.microsoft.com}AgentHandlers {}\n",
      "     {http://ProjectMalmo.microsoft.com}ObservationFromFullStats {}\n",
      "     {http://ProjectMalmo.microsoft.com}ObservationFromGrid {}\n",
      "       {http://ProjectMalmo.microsoft.com}Grid {'name': 'floor3x3'}\n",
      "         {http://ProjectMalmo.microsoft.com}min {'y': '-1', 'x': '-1', 'z': '-1'}\n",
      "         {http://ProjectMalmo.microsoft.com}max {'y': '1', 'x': '1', 'z': '-1'}\n",
      "     {http://ProjectMalmo.microsoft.com}ContinuousMovementCommands {'turnSpeedDegs': '180'}\n"
     ]
    }
   ],
   "source": [
    "def DFSXML(node, indent=0):\n",
    "    for element in node:\n",
    "        print \"  \"*indent, element.tag, element.attrib\n",
    "        DFSXML(element, indent + 1)\n",
    "\n",
    "DFSXML(root)"
   ]
  },
  {
   "cell_type": "code",
   "execution_count": 9,
   "metadata": {},
   "outputs": [
    {
     "name": "stdout",
     "output_type": "stream",
     "text": [
      "{http://ProjectMalmo.microsoft.com}DrawingDecorator {}\n"
     ]
    }
   ],
   "source": [
    "for element in root.iter(\"{http://ProjectMalmo.microsoft.com}DrawingDecorator\"):\n",
    "    print element.tag, element.attrib"
   ]
  },
  {
   "cell_type": "code",
   "execution_count": 10,
   "metadata": {},
   "outputs": [
    {
     "ename": "SyntaxError",
     "evalue": "invalid syntax (<ipython-input-10-a60950c811f8>, line 1)",
     "output_type": "error",
     "traceback": [
      "\u001b[0;36m  File \u001b[0;32m\"<ipython-input-10-a60950c811f8>\"\u001b[0;36m, line \u001b[0;32m1\u001b[0m\n\u001b[0;31m    <DrawBlock x=\"' + str(s.x) + '\" y=\"' + str(s.y) + '\" z=\"' + str(s.z) + '\" type=\"brick_block\"/>'\u001b[0m\n\u001b[0m    ^\u001b[0m\n\u001b[0;31mSyntaxError\u001b[0m\u001b[0;31m:\u001b[0m invalid syntax\n"
     ]
    }
   ],
   "source": [
    "<DrawBlock x=\"' + str(s.x) + '\" y=\"' + str(s.y) + '\" z=\"' + str(s.z) + '\" type=\"brick_block\"/>'"
   ]
  },
  {
   "cell_type": "code",
   "execution_count": null,
   "metadata": {
    "collapsed": true
   },
   "outputs": [],
   "source": [
    "ns = {\"m$\": \"http://ProjectMalmo.microsoft.com\"}"
   ]
  },
  {
   "cell_type": "code",
   "execution_count": null,
   "metadata": {},
   "outputs": [],
   "source": [
    "block_element = ET.Element(\"{http://ProjectMalmo.microsoft.com}DrawBlock\")\n",
    "block_element.set('x', '1')\n",
    "block_element.set('y', '2')\n",
    "block_element.set('z', '3')\n",
    "block_element.set('type', \"brick_block\")"
   ]
  },
  {
   "cell_type": "code",
   "execution_count": null,
   "metadata": {},
   "outputs": [],
   "source": [
    "for element in root.iter(\"{http://ProjectMalmo.microsoft.com}DrawingDecorator\"):\n",
    "    element.append(block_element)\n",
    "ET.dump(root)"
   ]
  },
  {
   "cell_type": "code",
   "execution_count": 12,
   "metadata": {
    "collapsed": true
   },
   "outputs": [],
   "source": [
    "layout = np.array(\n",
    "    [\n",
    "        [0, 0, 1, 0, 0],\n",
    "        [1, 0, 1, 0, 0],\n",
    "        [0, 0, 0, 1, 1]\n",
    "    ]\n",
    ")"
   ]
  },
  {
   "cell_type": "code",
   "execution_count": 14,
   "metadata": {},
   "outputs": [
    {
     "name": "stdout",
     "output_type": "stream",
     "text": [
      "<ns0:Mission xmlns:ns0=\"http://ProjectMalmo.microsoft.com\">\n",
      "\n",
      "    <ns0:About>\n",
      "        <ns0:Summary>Hello world!</ns0:Summary>\n",
      "    </ns0:About>\n",
      "\n",
      "    <ns0:ModSettings>\n",
      "        <ns0:MsPerTick>17</ns0:MsPerTick>\n",
      "    </ns0:ModSettings>\n",
      "\n",
      "    <ns0:ServerSection>\n",
      "        <ns0:ServerInitialConditions>\n",
      "            <ns0:Time>\n",
      "                <ns0:StartTime>12000</ns0:StartTime>\n",
      "                <ns0:AllowPassageOfTime>false</ns0:AllowPassageOfTime>\n",
      "            </ns0:Time>\n",
      "            <ns0:Weather>clear</ns0:Weather>\n",
      "        </ns0:ServerInitialConditions>\n",
      "        <ns0:ServerHandlers>\n",
      "            <ns0:FlatWorldGenerator generatorString=\"3;7,45;17;\" />\n",
      "            <ns0:DrawingDecorator>\n",
      "            <ns0:DrawBlock type=\"brick_block\" x=\"0\" y=\"2\" z=\"0\" /><ns0:DrawBlock type=\"brick_block\" x=\"1\" y=\"0\" z=\"0\" /><ns0:DrawBlock type=\"brick_block\" x=\"1\" y=\"2\" z=\"0\" /><ns0:DrawBlock type=\"brick_block\" x=\"2\" y=\"3\" z=\"0\" /><ns0:DrawBlock type=\"brick_block\" x=\"2\" y=\"4\" z=\"0\" /></ns0:DrawingDecorator>\n",
      "            <ns0:ServerQuitFromTimeUp timeLimitMs=\"300000\" />\n",
      "            <ns0:ServerQuitWhenAnyAgentFinishes />\n",
      "        </ns0:ServerHandlers>\n",
      "    </ns0:ServerSection>\n",
      "\n",
      "    <ns0:AgentSection mode=\"Creative\">\n",
      "        <ns0:Name>Mario</ns0:Name>\n",
      "        <ns0:AgentStart>\n",
      "            <ns0:Placement x=\"0\" y=\"2\" yaw=\"-90\" z=\"0\" />\n",
      "        </ns0:AgentStart>\n",
      "        <ns0:AgentHandlers>\n",
      "            <ns0:ObservationFromFullStats />\n",
      "            <ns0:ObservationFromGrid>\n",
      "                <ns0:Grid name=\"floor3x3\">\n",
      "                    <ns0:min x=\"-1\" y=\"-1\" z=\"-1\" />\n",
      "                    <ns0:max x=\"1\" y=\"1\" z=\"-1\" />\n",
      "                </ns0:Grid>\n",
      "            </ns0:ObservationFromGrid>\n",
      "            <ns0:ContinuousMovementCommands turnSpeedDegs=\"180\" />\n",
      "        </ns0:AgentHandlers>\n",
      "    </ns0:AgentSection>\n",
      "</ns0:Mission>\n"
     ]
    }
   ],
   "source": [
    "x = load_layout_xml(layout, {\"template_path\": \"mission_template.xml\"})"
   ]
  },
  {
   "cell_type": "code",
   "execution_count": 15,
   "metadata": {
    "collapsed": true
   },
   "outputs": [],
   "source": [
    "x"
   ]
  }
 ],
 "metadata": {
  "kernelspec": {
   "display_name": "Python 2",
   "language": "python",
   "name": "python2"
  },
  "language_info": {
   "codemirror_mode": {
    "name": "ipython",
    "version": 2
   },
   "file_extension": ".py",
   "mimetype": "text/x-python",
   "name": "python",
   "nbconvert_exporter": "python",
   "pygments_lexer": "ipython2",
   "version": "2.7.10"
  }
 },
 "nbformat": 4,
 "nbformat_minor": 1
}
